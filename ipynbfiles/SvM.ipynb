{
 "cells": [
  {
   "cell_type": "code",
   "execution_count": 3,
   "metadata": {},
   "outputs": [],
   "source": [
    "#importing dataset\n",
    "import numpy as np\n",
    "import pandas as pd\n",
    "import matplotlib.pyplot as plt\n",
    "\n",
    "\n",
    "import xgboost as xgb\n",
    "from sklearn.metrics import confusion_matrix\n",
    "\n",
    "from sklearn.metrics import accuracy_score,roc_auc_score\n",
    "import sklearn\n",
    "import numpy as np\n",
    "import pandas as pd\n",
    "import os\n",
    "from sklearn.metrics import accuracy_score\n",
    "\n",
    "dataset=pd.read_csv('cleve.csv')\n",
    "\n",
    "X=dataset.iloc[:,:-1].values\n",
    "y=dataset.iloc[:,13].values\n",
    "dataset.head()\n",
    "#imputation for data cleaning i.e; replace missing values with mean values\n",
    "from sklearn.impute import SimpleImputer\n",
    "Imputation=SimpleImputer(strategy=\"mean\",missing_values=np.nan, fill_value=None, verbose=0, copy=True, add_indicator=False)\n",
    "X[:,11:13]=Imputation.fit_transform(X[:,11:13])\n",
    "\n",
    "#divide dataset into train and test set\n",
    "from sklearn.model_selection import train_test_split,GridSearchCV\n",
    "X_train,X_test,y_train,y_test=train_test_split(X,y,test_size=0.2,random_state=63)\n",
    "#Scaling is a technique of feature Scaling process\n",
    "from sklearn.preprocessing import StandardScaler\n",
    "scaler=StandardScaler(with_mean=True,with_std=True)\n",
    "X_train=scaler.fit_transform(X_train)\n",
    "X_test=scaler.fit_transform(X_test)"
   ]
  },
  {
   "cell_type": "code",
   "execution_count": 2,
   "metadata": {},
   "outputs": [
    {
     "name": "stdout",
     "output_type": "stream",
     "text": [
      "83.60655737704919 84.3073593073593\n"
     ]
    }
   ],
   "source": [
    "#Support vector Classifier\n",
    "from sklearn.svm import LinearSVC\n",
    "svc=LinearSVC(penalty='l2',C=2,verbose=0,max_iter=10000,random_state=23)\n",
    "svc.fit(X_train,y_train)\n",
    "y_pred1=svc.predict(X_test)\n",
    "print(accuracy_score(y_test,y_pred1)*100,roc_auc_score(y_test,y_pred1)*100)\n"
   ]
  },
  {
   "cell_type": "code",
   "execution_count": null,
   "metadata": {},
   "outputs": [],
   "source": []
  }
 ],
 "metadata": {
  "kernelspec": {
   "display_name": "Python 3",
   "language": "python",
   "name": "python3"
  },
  "language_info": {
   "codemirror_mode": {
    "name": "ipython",
    "version": 3
   },
   "file_extension": ".py",
   "mimetype": "text/x-python",
   "name": "python",
   "nbconvert_exporter": "python",
   "pygments_lexer": "ipython3",
   "version": "3.8.5"
  }
 },
 "nbformat": 4,
 "nbformat_minor": 4
}
